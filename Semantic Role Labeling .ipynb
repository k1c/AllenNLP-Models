{
 "cells": [
  {
   "cell_type": "markdown",
   "metadata": {},
   "source": [
    "# AllenNLP: open-source NLP library, built on PyTorch"
   ]
  },
  {
   "cell_type": "markdown",
   "metadata": {},
   "source": [
    "## Motivation\n",
    "The motivation for doing Semantic Role Labeling (SRL) in the context of [biaslyAI](biaslyAI.com) is to find information such as \"who did what to whom\" on gender biased text so that we can potentially find patterns which we can then use to find more gender biased sentences. Also, we can use SRL as a data augmentation technique that replaces part(s) of a sentence to make 4 sentences out of 1, for example.\n",
    "\n",
    "It's a structure prediction problem where given the predicate (action word), identify all the arguments in the sentence and assign semantic role labels to each of the arguments based on their relations."
   ]
  },
  {
   "cell_type": "markdown",
   "metadata": {},
   "source": []
  },
  {
   "cell_type": "code",
   "execution_count": null,
   "metadata": {},
   "outputs": [],
   "source": []
  }
 ],
 "metadata": {
  "kernelspec": {
   "display_name": "Python 3",
   "language": "python",
   "name": "python3"
  },
  "language_info": {
   "codemirror_mode": {
    "name": "ipython",
    "version": 3
   },
   "file_extension": ".py",
   "mimetype": "text/x-python",
   "name": "python",
   "nbconvert_exporter": "python",
   "pygments_lexer": "ipython3",
   "version": "3.6.2"
  }
 },
 "nbformat": 4,
 "nbformat_minor": 2
}
